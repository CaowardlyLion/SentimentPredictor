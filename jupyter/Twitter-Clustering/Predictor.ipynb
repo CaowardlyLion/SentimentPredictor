{
 "cells": [
  {
   "cell_type": "code",
   "execution_count": null,
   "metadata": {},
   "outputs": [],
   "source": [
    "from BERTModel import Model\n",
    "import os\n",
    "import pymongo\n",
    "from datetime import date\n"
   ]
  },
  {
   "cell_type": "code",
   "execution_count": null,
   "metadata": {},
   "outputs": [],
   "source": [
    "def deriv(y, t, beta, gamma, sigma, N, zeta, k):\n",
    "    # Set up the differential equations. For reference:\n",
    "    # S = # of Susceptible, E = # of Exposed (non-infectious), I = Infectious, R = Resistant\n",
    "    # Beta = Expected infection rate of one person in a day, Gamma = Probability of death when infected, Sigma = Incubation period of Virus, Zeta = Popular Sentiment, k = \"Sentiment Factor\" a.k.a a constant to represent the importance of sentiment, alpha = How much one's sentiment changes per change in infected population.\n",
    "    # Mortality time was taken from Zhou et. al, \"Clinical course and risk factors for mortality of adult inpatients with COVID-19 in Wuhan, China: a retrospective cohort study\"\n",
    "    # Time between experiencing symptoms and infectivity was taken from \"https://www.health.harvard.edu/diseases-and-conditions/if-youve-been-exposed-to-the-coronavirus\"\n",
    "    # Lastly, the model assumes that an individual cannot be reinfected by the virus, though it is still uncertain whether this is accurate, and it assumes that those experiencing symptoms will no longer interact with others as either they quarantine or are hospitalized.\n",
    "    S, E, I, R, D = y\n",
    "    dSdt = -beta(t) * S * I / N + k / zeta(t)\n",
    "    dEdt = beta(t) * S * I / N + k / zeta(t) - sigma * E\n",
    "    dIdt = sigma * E - 1/3 * (1 - gamma) * I\n",
    "    dRdt = 1/3 * (1 - gamma) * I  - 1/8.5 * gamma * R\n",
    "    dDdt = 1/8.5 * gamma * R\n",
    "    #dZetadt = zeta(t) * I * alpha # Experimental implementation, may not be used.\n",
    "    return dSdt, dEdt, dIdt, dRdt, dDdt"
   ]
  },
  {
   "cell_type": "code",
   "execution_count": null,
   "metadata": {},
   "outputs": [],
   "source": [
    "import pandas as pd\n",
    "import numpy as np\n",
    "import matplotlib.pyplot as plt\n",
    "import lmfit\n",
    "import scipy"
   ]
  },
  {
   "cell_type": "code",
   "execution_count": null,
   "metadata": {},
   "outputs": [],
   "source": [
    "os.environ['TF_CPP_MIN_LOG_LEVEL'] = '2' \n",
    "\n",
    "model = Model()\n",
    "\n",
    "client = pymongo.MongoClient('172.16.18.46:27017')\n",
    "client.test.authenticate('test', 'passw0rd')\n",
    "TweetCollection = client.tweets.tweets"
   ]
  },
  {
   "cell_type": "code",
   "execution_count": null,
   "metadata": {},
   "outputs": [],
   "source": [
    "# totals = []\n",
    "# for day in TweetCollection.distinct(\"date\"):\n",
    "#     tweets = []\n",
    "#     for tweet in TweetCollection.find({\"date\": day}):\n",
    "#         tweets.append(tweet[\"text\"])\n",
    "#     predictions = model.getPrediction(tweets)\n",
    "#     total = 0\n",
    "#     for prediction in predictions:\n",
    "#         total = prediction[2]/4 + total\n",
    "#     totals.append(total/len(tweets))"
   ]
  },
  {
   "cell_type": "code",
   "execution_count": null,
   "metadata": {},
   "outputs": [],
   "source": [
    "def zeta(t):\n",
    "    return totals[int(t) - 5]"
   ]
  },
  {
   "cell_type": "code",
   "execution_count": null,
   "metadata": {},
   "outputs": [],
   "source": [
    "aggdeaths = pd.DataFrame()"
   ]
  },
  {
   "cell_type": "code",
   "execution_count": null,
   "metadata": {},
   "outputs": [],
   "source": [
    "for i in range(6, 31):\n",
    "    if i < 10:\n",
    "        day = \"0\" + str(i)\n",
    "    else:\n",
    "        day = str(i)\n",
    "    temp = pd.read_csv(\"/workspace/COVID-19/csse_covid_19_data/csse_covid_19_daily_reports_us/06-\" + day + \"-2020.csv\")\n",
    "    deaths = temp[\"Deaths\"].sum()\n",
    "    aggdeaths = aggdeaths.append(pd.Series([\"06-\" + day + \"-2020\", deaths]), ignore_index = True)"
   ]
  },
  {
   "cell_type": "code",
   "execution_count": 40,
   "metadata": {},
   "outputs": [],
   "source": [
    "sigma = 1/5 # According to Lauer, et al.\n",
    "\n",
    "#R0 represents the number of people that one infected individual can go on to infect.\n",
    "def logistic_R_0(t, R_0_start, l, x0, R_0_end):\n",
    "    return (R_0_start-R_0_end) / (1 + np.exp(-l*(-t+x0))) + R_0_end\n",
    "\n",
    "def Model(days, R_0_start, l, x0, R_0_end, gamma, k):\n",
    "    def beta(t):\n",
    "        return logistic_R_0(t, R_0_start, l, x0, R_0_end) * gamma\n",
    "    N = 331027545\n",
    "    y0 = N - 1821073, 79723, 61722, 1575411, 104217\n",
    "    t = np.linspace(0, days - 1, days)\n",
    "    ret = scipy.integrate.odeint(deriv, y0, t, args=(beta, gamma, sigma, N, zeta, k))\n",
    "    S, E, I, R, D = ret.T\n",
    "\n",
    "    return t, S, E, I, R, D, gamma, k"
   ]
  },
  {
   "cell_type": "code",
   "execution_count": null,
   "metadata": {},
   "outputs": [],
   "source": [
    "params_init_min_max = {\"R_0_start\": (3.0, 2.0, 5.0),\n",
    "                       \"x0\": (15, 0, 39), \n",
    "                       \"R_0_end\": (0.9, 0.3, 3.5),\n",
    "                       \"gamma\": (.032, 0.005, .1),\n",
    "                       \"k\": (100, 0.01, 1000),\n",
    "                       \"l\": (2.5, 0.01, 5.0)}"
   ]
  },
  {
   "cell_type": "code",
   "execution_count": null,
   "metadata": {},
   "outputs": [],
   "source": [
    "x_data = np.linspace(0, 25 - 1, 25, dtype=int)"
   ]
  },
  {
   "cell_type": "code",
   "execution_count": null,
   "metadata": {},
   "outputs": [],
   "source": [
    "death_data = pd.read_csv(\"covid_deaths_usafacts.csv\")\n",
    "death_data = death_data.iloc[:, 4:]"
   ]
  },
  {
   "cell_type": "code",
   "execution_count": null,
   "metadata": {},
   "outputs": [],
   "source": [
    "sums = death_data.sum(axis=0)[-28:-3]"
   ]
  },
  {
   "cell_type": "code",
   "execution_count": null,
   "metadata": {},
   "outputs": [],
   "source": [
    "y_data = np.array(sums)"
   ]
  },
  {
   "cell_type": "code",
   "execution_count": null,
   "metadata": {},
   "outputs": [],
   "source": [
    "def fitter(x, R_0_start, l, x0, R_0_end, gamma, k):\n",
    "    ret = Model(25, R_0_start, l, x0, R_0_end, gamma, k)\n",
    "    deaths_predicted = ret[5]\n",
    "    return deaths_predicted[x]"
   ]
  },
  {
   "cell_type": "code",
   "execution_count": null,
   "metadata": {},
   "outputs": [],
   "source": [
    "mod = lmfit.Model(fitter)\n",
    "\n",
    "for kwarg, (init, mini, maxi) in params_init_min_max.items():\n",
    "    mod.set_param_hint(str(kwarg), value=init, min=mini, max=maxi, vary=True)\n",
    "\n",
    "params = mod.make_params()\n",
    "fit_method = \"leastsq\""
   ]
  },
  {
   "cell_type": "code",
   "execution_count": null,
   "metadata": {},
   "outputs": [],
   "source": [
    "result = mod.fit(y_data, params, method=fit_method, x=x_data)"
   ]
  },
  {
   "cell_type": "code",
   "execution_count": null,
   "metadata": {},
   "outputs": [],
   "source": [
    "params"
   ]
  },
  {
   "cell_type": "code",
   "execution_count": 19,
   "metadata": {},
   "outputs": [
    {
     "data": {
      "text/plain": [
       "<matplotlib.axes._subplots.AxesSubplot at 0x7f6b36501940>"
      ]
     },
     "execution_count": 19,
     "metadata": {},
     "output_type": "execute_result"
    },
    {
     "data": {
      "image/png": "[encoded data removed]",
      "text/plain": [
       "<Figure size 432x288 with 1 Axes>"
      ]
     },
     "metadata": {
      "needs_background": "light"
     },
     "output_type": "display_data"
    }
   ],
   "source": [
    "result.plot_fit(datafmt=\"-\")"
   ]
  },
  {
   "cell_type": "code",
   "execution_count": 20,
   "metadata": {},
   "outputs": [
    {
     "data": {
      "text/plain": [
       "{'R_0_start': 4.40403022002404,\n",
       " 'l': 2.450021174065444,\n",
       " 'x0': 38.985978046959765,\n",
       " 'R_0_end': 2.041367137041323,\n",
       " 'gamma': 0.005082548662331884,\n",
       " 'k': 53.64013192670941}"
      ]
     },
     "execution_count": 20,
     "metadata": {},
     "output_type": "execute_result"
    }
   ],
   "source": [
    "result.best_values\n"
   ]
  },
  {
   "cell_type": "code",
   "execution_count": null,
   "metadata": {},
   "outputs": [],
   "source": [
    "y_data"
   ]
  },
  {
   "cell_type": "code",
   "execution_count": null,
   "metadata": {},
   "outputs": [],
   "source": []
  },
  {
   "cell_type": "code",
   "execution_count": null,
   "metadata": {},
   "outputs": [],
   "source": [
    "plt.plot(y_data)"
   ]
  },
  {
   "cell_type": "code",
   "execution_count": null,
   "metadata": {},
   "outputs": [],
   "source": [
    "np.linspace(0, 24, 25)"
   ]
  },
  {
   "cell_type": "code",
   "execution_count": 42,
   "metadata": {},
   "outputs": [],
   "source": [
    "ret = Model(31, 4.40403022002404, 2.450021174065444, 38.985978046959765, 2.041367137041323, 0.005082548662331884, 53.64013192670941)"
   ]
  },
  {
   "cell_type": "code",
   "execution_count": 49,
   "metadata": {},
   "outputs": [
    {
     "data": {
      "text/plain": [
       "[<matplotlib.lines.Line2D at 0x7f6b313a42b0>]"
      ]
     },
     "execution_count": 49,
     "metadata": {},
     "output_type": "execute_result"
    },
    {
     "data": {
      "image/png": "[encoded data removed]",
      "text/plain": [
       "<Figure size 432x288 with 1 Axes>"
      ]
     },
     "metadata": {
      "needs_background": "light"
     },
     "output_type": "display_data"
    }
   ],
   "source": [
    "plt.plot(ret[5])"
   ]
  },
  {
   "cell_type": "code",
   "execution_count": 47,
   "metadata": {},
   "outputs": [
    {
     "data": {
      "text/plain": [
       "array([1575411.        , 1594119.29228277, 1611023.03778714,\n",
       "       1626020.21876314, 1639143.8055102 , 1650500.13002375,\n",
       "       1660235.38846316, 1668513.45068449, 1675500.53644592,\n",
       "       1681356.35352539, 1686227.99045297, 1690249.24795003,\n",
       "       1693539.11052329, 1696203.25012654, 1698333.62686225,\n",
       "       1700008.94358097, 1701296.97885278, 1702255.99473476,\n",
       "       1702937.12891721, 1703383.86215489, 1703632.20461355,\n",
       "       1703713.37820295, 1703654.98408155, 1703479.64588457,\n",
       "       1703205.54993838, 1702849.63527913, 1702425.06647564,\n",
       "       1701944.6404558 , 1701416.50899488, 1700846.66519441,\n",
       "       1700239.98452141])"
      ]
     },
     "execution_count": 47,
     "metadata": {},
     "output_type": "execute_result"
    }
   ],
   "source": [
    "ret[4]"
   ]
  },
  {
   "cell_type": "code",
   "execution_count": null,
   "metadata": {},
   "outputs": [],
   "source": []
  }
 ],
 "metadata": {
  "kernelspec": {
   "display_name": "Python 3",
   "language": "python",
   "name": "python3"
  },
  "language_info": {
   "codemirror_mode": {
    "name": "ipython",
    "version": 3
   },
   "file_extension": ".py",
   "mimetype": "text/x-python",
   "name": "python",
   "nbconvert_exporter": "python",
   "pygments_lexer": "ipython3",
   "version": "3.7.3"
  }
 },
 "nbformat": 4,
 "nbformat_minor": 4
}
