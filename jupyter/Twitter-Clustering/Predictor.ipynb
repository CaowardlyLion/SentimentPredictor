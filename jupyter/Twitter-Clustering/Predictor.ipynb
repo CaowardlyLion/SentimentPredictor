{
 "cells": [
  {
   "cell_type": "code",
   "execution_count": null,
   "metadata": {},
   "outputs": [],
   "source": [
    "import BERTModel\n",
    "import os\n",
    "import pymongo\n",
    "from datetime import date\n"
   ]
  },
  {
   "cell_type": "code",
   "execution_count": null,
   "metadata": {},
   "outputs": [],
   "source": [
    "def deriv(y, t, beta, gamma, sigma, N, zeta, mu, nu, omega):\n",
    "    # Set up the differential equations. For reference:\n",
    "    # S = # of Susceptible, E = # of Exposed (non-infectious), I = Infectious, R = Resistant\n",
    "    # Beta = Expected infection rate of one person in a day, Gamma = Probability of death when infected, Sigma = Incubation period of Virus, Zeta = Popular Sentiment, k = \"Sentiment Factor\" a.k.a a constant to represent the importance of sentiment, alpha = How much one's sentiment changes per change in infected population.\n",
    "    # Mortality time was taken from Zhou et. al, \"Clinical course and risk factors for mortality of adult inpatients with COVID-19 in Wuhan, China: a retrospective cohort study\"\n",
    "    # Time between experiencing symptoms and infectivity was taken from \"https://www.health.harvard.edu/diseases-and-conditions/if-youve-been-exposed-to-the-coronavirus\"\n",
    "    # Lastly, the model assumes that an individual cannot be reinfected by the virus, though it is still uncertain whether this is accurate, and it assumes that those experiencing symptoms will no longer interact with others as either they quarantine or are hospitalized.\n",
    "    S, E, I, R, C, D = y\n",
    "    dSdt = (-beta(t) * S * I / N) * (1 - (I + R) / N) / (mu * zeta(t))\n",
    "    dEdt = (beta(t) * S * I / N) * (1 - (I + R) / N) / (mu * zeta(t)) - sigma * E\n",
    "    dIdt = sigma * E - (1 - nu) * gamma * I - 1/12 * nu * I\n",
    "    dRdt = (1 - nu) * gamma * I + 1/6.5 * (1 - omega) * C\n",
    "    dCdt = 1/12 * nu * I - 1/6.5 * (1 - omega) * C - 1/7.5 * (1 - omega) * C\n",
    "    dDdt = 1/7.5 * (1 - omega) * C\n",
    "    #dZetadt = zeta(t) * I * alpha # Experimental implementation, may not be used.\n",
    "    return dSdt, dEdt, dIdt, dRdt, dCdt, dDdt"
   ]
  },
  {
   "cell_type": "code",
   "execution_count": null,
   "metadata": {},
   "outputs": [],
   "source": [
    "import pandas as pd\n",
    "import numpy as np\n",
    "import matplotlib.pyplot as plt\n",
    "import lmfit\n",
    "import scipy"
   ]
  },
  {
   "cell_type": "code",
   "execution_count": null,
   "metadata": {
    "scrolled": true
   },
   "outputs": [],
   "source": [
    "os.environ['TF_CPP_MIN_LOG_LEVEL'] = '2' \n",
    "\n",
    "model = BERTModel.Model()\n",
    "\n",
    "client = pymongo.MongoClient('172.16.18.46:27017')\n",
    "client.test.authenticate('test', 'passw0rd')\n",
    "TweetCollection = client.tweets.tweets"
   ]
  },
  {
   "cell_type": "code",
   "execution_count": null,
   "metadata": {
    "scrolled": true
   },
   "outputs": [],
   "source": [
    "# totals = []\n",
    "# for day in TweetCollection.distinct(\"date\"):\n",
    "#     tweets = []\n",
    "#     for tweet in TweetCollection.find({\"date\": day}):\n",
    "#         tweets.append(tweet[\"text\"])\n",
    "#     predictions = model.getPrediction(tweets)\n",
    "#     total = 0\n",
    "#     for prediction in predictions:\n",
    "#         total = prediction[2]/4 + total\n",
    "#     totals.append(total/len(tweets))"
   ]
  },
  {
   "cell_type": "code",
   "execution_count": 8,
   "metadata": {},
   "outputs": [],
   "source": [
    "def zeta(t):\n",
    "    return totals[int(t) - 5]"
   ]
  },
  {
   "cell_type": "code",
   "execution_count": 31,
   "metadata": {},
   "outputs": [],
   "source": [
    "aggdeaths = pd.DataFrame()"
   ]
  },
  {
   "cell_type": "code",
   "execution_count": 32,
   "metadata": {},
   "outputs": [
    {
     "name": "stdout",
     "output_type": "stream",
     "text": [
      "83\n"
     ]
    }
   ],
   "source": [
    "daterange = pd.date_range(\"4/12/2020\", \"7/03/2020\")\n",
    "print(len(daterange))\n",
    "for date in daterange:\n",
    "    temp = pd.read_csv(\"/workspace/COVID-19/csse_covid_19_data/csse_covid_19_daily_reports_us/\" + date.strftime(\"%m-%d-%Y\") + \".csv\")\n",
    "    deaths = temp[\"Deaths\"].sum()\n",
    "    aggdeaths = aggdeaths.append(pd.Series([\"06-\" + day + \"-2020\", deaths]), ignore_index = True)"
   ]
  },
  {
   "cell_type": "code",
   "execution_count": 78,
   "metadata": {},
   "outputs": [],
   "source": [
    "sigma = 1/5 # According to Lauer, et al.\n",
    "\n",
    "#R0 represents the number of people that one infected individual can go on to infect.\n",
    "def logistic_R_0(t, R_0_start, l, x0, R_0_end):\n",
    "    return (R_0_start-R_0_end) / (1 + np.exp(-l*(-t+x0))) + R_0_end\n",
    "\n",
    "def Model(days, R_0_start, l, x0, R_0_end, gamma, mu, nu, omega):\n",
    "    def beta(t):\n",
    "        return logistic_R_0(t, R_0_start, l, x0, R_0_end) * gamma\n",
    "    N = 331027545\n",
    "    y0 = 329275132, 79723, 49378, 1575411, 12344, 35557\n",
    "    t = np.linspace(5, 83, 79)\n",
    "    ret = scipy.integrate.odeint(deriv, y0, t, args=(beta, gamma, sigma, N, zeta, mu, nu, omega))\n",
    "    S, E, I, R, C, D = ret.T\n",
    "\n",
    "    return t, S, E, I, R, C, D, gamma, "
   ]
  },
  {
   "cell_type": "code",
   "execution_count": 79,
   "metadata": {},
   "outputs": [],
   "source": [
    "params_init_min_max = {\"R_0_start\": (3.0, 2.0, 5.0),\n",
    "                       \"x0\": (15, 0, 39), \n",
    "                       \"R_0_end\": (0.9, 0.3, 3.5),\n",
    "                       \"gamma\": (.032, 0.005, .1),\n",
    "                       \"l\": (2.5, 0.01, 5.0),\n",
    "                       \"mu\": (50, 0.01, 1000),\n",
    "                       \"nu\": (.2, .01, 1),\n",
    "                       \"omega\": (.6, .01, 1)}"
   ]
  },
  {
   "cell_type": "code",
   "execution_count": 80,
   "metadata": {},
   "outputs": [],
   "source": [
    "x_data = np.linspace(0, 78 - 1, 78, dtype=int)"
   ]
  },
  {
   "cell_type": "code",
   "execution_count": 81,
   "metadata": {},
   "outputs": [],
   "source": [
    "death_data = pd.read_csv(\"covid_deaths_usafacts.csv\")\n",
    "death_data = death_data.iloc[:, 4:]"
   ]
  },
  {
   "cell_type": "code",
   "execution_count": 82,
   "metadata": {},
   "outputs": [],
   "source": [
    "sums = death_data.sum(axis=0)[-78:]"
   ]
  },
  {
   "cell_type": "code",
   "execution_count": 83,
   "metadata": {},
   "outputs": [],
   "source": [
    "y_data = np.array(sums)"
   ]
  },
  {
   "cell_type": "code",
   "execution_count": 84,
   "metadata": {},
   "outputs": [],
   "source": [
    "def fitter(x, R_0_start, l, x0, R_0_end, gamma, mu, nu, omega):\n",
    "    ret = Model(78, R_0_start, l, x0, R_0_end, gamma, mu, nu, omega)\n",
    "    deaths_predicted = ret[6]\n",
    "    return deaths_predicted[x]"
   ]
  },
  {
   "cell_type": "code",
   "execution_count": 85,
   "metadata": {},
   "outputs": [],
   "source": [
    "mod = lmfit.Model(fitter)\n",
    "\n",
    "for kwarg, (init, mini, maxi) in params_init_min_max.items():\n",
    "    mod.set_param_hint(str(kwarg), value=init, min=mini, max=maxi, vary=True)\n",
    "\n",
    "params = mod.make_params()\n",
    "fit_method = \"leastsq\""
   ]
  },
  {
   "cell_type": "code",
   "execution_count": 86,
   "metadata": {},
   "outputs": [],
   "source": [
    "result = mod.fit(y_data, params, method=fit_method, x=x_data)"
   ]
  },
  {
   "cell_type": "code",
   "execution_count": 87,
   "metadata": {},
   "outputs": [
    {
     "data": {
      "text/html": [
       "<table><tr><th> name </th><th> value </th><th> initial value </th><th> min </th><th> max </th><th> vary </th></tr><tr><td> R_0_start </td><td>  3.00000000 </td><td> None </td><td>  2.00000000 </td><td>  5.00000000 </td><td> True </td></tr><tr><td> l </td><td>  2.50000000 </td><td> None </td><td>  0.01000000 </td><td>  5.00000000 </td><td> True </td></tr><tr><td> x0 </td><td>  15.0000000 </td><td> None </td><td>  0.00000000 </td><td>  39.0000000 </td><td> True </td></tr><tr><td> R_0_end </td><td>  0.90000000 </td><td> None </td><td>  0.30000000 </td><td>  3.50000000 </td><td> True </td></tr><tr><td> gamma </td><td>  0.03200000 </td><td> None </td><td>  0.00500000 </td><td>  0.10000000 </td><td> True </td></tr><tr><td> mu </td><td>  50.0000000 </td><td> None </td><td>  0.01000000 </td><td>  1000.00000 </td><td> True </td></tr><tr><td> nu </td><td>  0.20000000 </td><td> None </td><td>  0.01000000 </td><td>  1.00000000 </td><td> True </td></tr><tr><td> omega </td><td>  0.60000000 </td><td> None </td><td>  0.01000000 </td><td>  1.00000000 </td><td> True </td></tr></table>"
      ],
      "text/plain": [
       "Parameters([('R_0_start',\n",
       "             <Parameter 'R_0_start', value=3.0, bounds=[2.0:5.0]>),\n",
       "            ('l', <Parameter 'l', value=2.5, bounds=[0.01:5.0]>),\n",
       "            ('x0', <Parameter 'x0', value=15, bounds=[0:39]>),\n",
       "            ('R_0_end', <Parameter 'R_0_end', value=0.9, bounds=[0.3:3.5]>),\n",
       "            ('gamma', <Parameter 'gamma', value=0.032, bounds=[0.005:0.1]>),\n",
       "            ('mu', <Parameter 'mu', value=50, bounds=[0.01:1000]>),\n",
       "            ('nu', <Parameter 'nu', value=0.2, bounds=[0.01:1]>),\n",
       "            ('omega', <Parameter 'omega', value=0.6, bounds=[0.01:1]>)])"
      ]
     },
     "execution_count": 87,
     "metadata": {},
     "output_type": "execute_result"
    }
   ],
   "source": [
    "params"
   ]
  },
  {
   "cell_type": "code",
   "execution_count": 88,
   "metadata": {},
   "outputs": [
    {
     "data": {
      "text/plain": [
       "<matplotlib.axes._subplots.AxesSubplot at 0x7fb50bc24048>"
      ]
     },
     "execution_count": 88,
     "metadata": {},
     "output_type": "execute_result"
    },
    {
     "data": {
      "image/png": "[encoded data removed]",
      "text/plain": [
       "<Figure size 432x288 with 1 Axes>"
      ]
     },
     "metadata": {
      "needs_background": "light"
     },
     "output_type": "display_data"
    }
   ],
   "source": [
    "result.plot_fit(datafmt=\"-\")"
   ]
  },
  {
   "cell_type": "code",
   "execution_count": 89,
   "metadata": {},
   "outputs": [
    {
     "data": {
      "text/plain": [
       "{'R_0_start': 2.930036462129107,\n",
       " 'l': 2.497029277494898,\n",
       " 'x0': 16.988391858261224,\n",
       " 'R_0_end': 0.8526625798000715,\n",
       " 'gamma': 0.04467509432132309,\n",
       " 'mu': 63.52021239216472,\n",
       " 'nu': 0.951785557847638,\n",
       " 'omega': 0.5220232493768168}"
      ]
     },
     "execution_count": 89,
     "metadata": {},
     "output_type": "execute_result"
    }
   ],
   "source": [
    "result.best_values\n"
   ]
  },
  {
   "cell_type": "code",
   "execution_count": null,
   "metadata": {},
   "outputs": [],
   "source": [
    "y_data"
   ]
  },
  {
   "cell_type": "code",
   "execution_count": 39,
   "metadata": {},
   "outputs": [
    {
     "data": {
      "text/plain": [
       "array([ 0,  1,  2,  3,  4,  5,  6,  7,  8,  9, 10, 11, 12, 13, 14, 15, 16,\n",
       "       17, 18, 19, 20, 21, 22, 23, 24, 25, 26, 27, 28, 29, 30, 31, 32, 33,\n",
       "       34, 35, 36, 37, 38, 39, 40, 41, 42, 43, 44, 45, 46, 47, 48, 49, 50,\n",
       "       51, 52, 53, 54, 55, 56, 57, 58, 59, 60, 61, 62, 63, 64, 65, 66, 67,\n",
       "       68, 69, 70, 71, 72, 73, 74, 75, 76, 77, 78, 79, 80, 81, 82])"
      ]
     },
     "execution_count": 39,
     "metadata": {},
     "output_type": "execute_result"
    }
   ],
   "source": [
    "x_data"
   ]
  },
  {
   "cell_type": "code",
   "execution_count": null,
   "metadata": {},
   "outputs": [],
   "source": [
    "plt.plot(y_data)"
   ]
  },
  {
   "cell_type": "code",
   "execution_count": null,
   "metadata": {},
   "outputs": [],
   "source": [
    "np.linspace(5, 30, 26)"
   ]
  },
  {
   "cell_type": "code",
   "execution_count": 91,
   "metadata": {},
   "outputs": [],
   "source": [
    "ret = Model(78, 2.930036462129107,2.497029277494898,16.988391858261224,0.8526625798000715,0.04467509432132309,63.52021239216472,0.951785557847638,0.5220232493768168)"
   ]
  },
  {
   "cell_type": "code",
   "execution_count": 98,
   "metadata": {},
   "outputs": [
    {
     "data": {
      "text/plain": [
       "[<matplotlib.lines.Line2D at 0x7fb566c07dd8>]"
      ]
     },
     "execution_count": 98,
     "metadata": {},
     "output_type": "execute_result"
    },
    {
     "data": {
      "image/png": "[encoded data removed]",
      "text/plain": [
       "<Figure size 432x288 with 1 Axes>"
      ]
     },
     "metadata": {
      "needs_background": "light"
     },
     "output_type": "display_data"
    }
   ],
   "source": [
    "plt.plot(ret[5])"
   ]
  },
  {
   "cell_type": "code",
   "execution_count": null,
   "metadata": {},
   "outputs": [],
   "source": [
    "ret"
   ]
  },
  {
   "cell_type": "code",
   "execution_count": null,
   "metadata": {},
   "outputs": [],
   "source": [
    "y_data"
   ]
  },
  {
   "cell_type": "code",
   "execution_count": null,
   "metadata": {},
   "outputs": [],
   "source": [
    "zeta(-5)"
   ]
  },
  {
   "cell_type": "code",
   "execution_count": null,
   "metadata": {},
   "outputs": [],
   "source": [
    "deriv([329201325, 79723, 49378, 1575411, 12344, 109364], 5, lambda t: logistic_R_0(t, 3.431585368903824, 0.011777830914644231, 37.94379080443961, 2.445278849703983) * 0.005000000012027908, 0.005000000012027908, .2, 331027545, zeta, 8.51360655133194, 98.06740086523001, 0.1905504497470916, 0.562006579814635)"
   ]
  },
  {
   "cell_type": "code",
   "execution_count": 33,
   "metadata": {},
   "outputs": [],
   "source": [
    "totals = totals[0:83]"
   ]
  },
  {
   "cell_type": "code",
   "execution_count": 34,
   "metadata": {},
   "outputs": [
    {
     "data": {
      "text/plain": [
       "83"
      ]
     },
     "execution_count": 34,
     "metadata": {},
     "output_type": "execute_result"
    }
   ],
   "source": [
    "len(totals)"
   ]
  },
  {
   "cell_type": "code",
   "execution_count": 67,
   "metadata": {},
   "outputs": [
    {
     "data": {
      "text/plain": [
       "4/17/20     35557\n",
       "4/18/20     37063\n",
       "4/19/20     39586\n",
       "4/20/20     41404\n",
       "4/21/20     44161\n",
       "            ...  \n",
       "6/29/20    125292\n",
       "6/30/20    126602\n",
       "7/1/20     127304\n",
       "7/2/20     127879\n",
       "7/3/20     128582\n",
       "Length: 78, dtype: int64"
      ]
     },
     "execution_count": 67,
     "metadata": {},
     "output_type": "execute_result"
    }
   ],
   "source": [
    "death_data.sum(axis=0)[-78:]"
   ]
  },
  {
   "cell_type": "code",
   "execution_count": 53,
   "metadata": {},
   "outputs": [
    {
     "data": {
      "text/plain": [
       "array([ 5.,  6.,  7.,  8.,  9., 10., 11., 12., 13., 14., 15., 16., 17.,\n",
       "       18., 19., 20., 21., 22., 23., 24., 25., 26., 27., 28., 29., 30.])"
      ]
     },
     "execution_count": 53,
     "metadata": {},
     "output_type": "execute_result"
    }
   ],
   "source": [
    "np.linspace(5, 30, 26)\n"
   ]
  },
  {
   "cell_type": "code",
   "execution_count": null,
   "metadata": {},
   "outputs": [],
   "source": []
  }
 ],
 "metadata": {
  "kernelspec": {
   "display_name": "Python 3",
   "language": "python",
   "name": "python3"
  },
  "language_info": {
   "codemirror_mode": {
    "name": "ipython",
    "version": 3
   },
   "file_extension": ".py",
   "mimetype": "text/x-python",
   "name": "python",
   "nbconvert_exporter": "python",
   "pygments_lexer": "ipython3",
   "version": "3.7.3"
  }
 },
 "nbformat": 4,
 "nbformat_minor": 4
}
