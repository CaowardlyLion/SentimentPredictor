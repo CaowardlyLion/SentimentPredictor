{
 "cells": [
  {
   "cell_type": "code",
   "execution_count": 6,
   "metadata": {},
   "outputs": [],
   "source": [
    "import keys\n",
    "import tweepy"
   ]
  },
  {
   "cell_type": "code",
   "execution_count": 8,
   "metadata": {},
   "outputs": [],
   "source": [
    "auth = tweepy.OAuthHandler(keys.CONSUMER_KEY, keys.CONSUMER_SECRET)\n",
    "api = tweepy.API(auth)"
   ]
  },
  {
   "cell_type": "code",
   "execution_count": 10,
   "metadata": {},
   "outputs": [
    {
     "name": "stdout",
     "output_type": "stream",
     "text": [
      "RT @MollyJongFast: Trump is going to be so mad about his sad empty coronavirus rally\n",
      "RT @cesarob087: Me podrá dar piedra en los riñones pero nunca coronavirus https://t.co/P3Ww7aTj2n\n",
      "RT @funder: BREAKING: Trump just said he told his people to slow down coronavirus testing in America, because it was increasing the number…\n",
      "RT @tamarakeithNPR: Aaaaannnd, the President of the United States just called coronavirus “Kung flu.”\n",
      "RT @CodyLillich: Dr. Avegno with @nolahealthdept: City is aware of some attempts to use short-term rentals for parties or large gatherings.…\n",
      "RT @funder: Trump just admitted he slowed testing to hide coronavirus case numbers in America. Trump is the person most responsible for the…\n",
      "RT @cesarob087: Me podrá dar piedra en los riñones pero nunca coronavirus https://t.co/P3Ww7aTj2n\n",
      "RT @weijia: UPDATE: At his rally in Tulsa just now, President Trump referred to #Coronavirus as the “Kung-Flu”.\n",
      "RT @laportestephane: Ce printemps qu’on n’oubliera pas https://t.co/5MyTTSkKco via @lp_lapresse #COVID19 #coronavirus #Deconfinement #ete #…\n",
      "RT @Julietknows1: #MAGA, make sure 2 wear your masks at the #TrumpRally today! U are a million x’s more likely 2 catch the #Coronavirus bec…\n"
     ]
    }
   ],
   "source": [
    "for tweet in tweepy.Cursor(api.search, q='coronavirus').items(10):\n",
    "    print(tweet.text)"
   ]
  },
  {
   "cell_type": "code",
   "execution_count": null,
   "metadata": {},
   "outputs": [],
   "source": []
  }
 ],
 "metadata": {
  "kernelspec": {
   "display_name": "Python 3",
   "language": "python",
   "name": "python3"
  },
  "language_info": {
   "codemirror_mode": {
    "name": "ipython",
    "version": 3
   },
   "file_extension": ".py",
   "mimetype": "text/x-python",
   "name": "python",
   "nbconvert_exporter": "python",
   "pygments_lexer": "ipython3",
   "version": "3.7.3"
  }
 },
 "nbformat": 4,
 "nbformat_minor": 4
}
